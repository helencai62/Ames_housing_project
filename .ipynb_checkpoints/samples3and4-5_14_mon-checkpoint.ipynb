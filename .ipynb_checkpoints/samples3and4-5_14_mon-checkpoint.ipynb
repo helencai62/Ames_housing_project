{
 "cells": [
  {
   "cell_type": "code",
   "execution_count": 87,
   "metadata": {},
   "outputs": [],
   "source": [
    "import pandas as pd\n",
    "import numpy as np\n",
    "from sklearn.linear_model import LinearRegression\n",
    "from sklearn.preprocessing import PolynomialFeatures, StandardScaler\n",
    "import seaborn as sns"
   ]
  },
  {
   "cell_type": "code",
   "execution_count": 88,
   "metadata": {},
   "outputs": [],
   "source": [
    "train = pd.DataFrame(pd.read_csv('train.csv'))"
   ]
  },
  {
   "cell_type": "code",
   "execution_count": 89,
   "metadata": {},
   "outputs": [],
   "source": [
    "train.columns = [i.lower().replace(' ', '') for i in train.columns]"
   ]
  },
  {
   "cell_type": "code",
   "execution_count": 90,
   "metadata": {},
   "outputs": [
    {
     "data": {
      "text/plain": [
       "Index(['id', 'pid', 'mssubclass', 'mszoning', 'lotfrontage'], dtype='object')"
      ]
     },
     "execution_count": 90,
     "metadata": {},
     "output_type": "execute_result"
    }
   ],
   "source": [
    "train.columns[0:5]"
   ]
  },
  {
   "cell_type": "code",
   "execution_count": 91,
   "metadata": {},
   "outputs": [
    {
     "data": {
      "text/html": [
       "<div>\n",
       "<style scoped>\n",
       "    .dataframe tbody tr th:only-of-type {\n",
       "        vertical-align: middle;\n",
       "    }\n",
       "\n",
       "    .dataframe tbody tr th {\n",
       "        vertical-align: top;\n",
       "    }\n",
       "\n",
       "    .dataframe thead th {\n",
       "        text-align: right;\n",
       "    }\n",
       "</style>\n",
       "<table border=\"1\" class=\"dataframe\">\n",
       "  <thead>\n",
       "    <tr style=\"text-align: right;\">\n",
       "      <th></th>\n",
       "      <th>id</th>\n",
       "      <th>overallqual</th>\n",
       "      <th>garagearea</th>\n",
       "      <th>garagecars</th>\n",
       "      <th>totalbsmtsf</th>\n",
       "      <th>yearbuilt</th>\n",
       "      <th>yearremod/add</th>\n",
       "      <th>fullbath</th>\n",
       "      <th>masvnrarea</th>\n",
       "      <th>totrmsabvgrd</th>\n",
       "      <th>saleprice</th>\n",
       "    </tr>\n",
       "  </thead>\n",
       "  <tbody>\n",
       "    <tr>\n",
       "      <th>0</th>\n",
       "      <td>109</td>\n",
       "      <td>6</td>\n",
       "      <td>475.0</td>\n",
       "      <td>2.0</td>\n",
       "      <td>725.0</td>\n",
       "      <td>1976</td>\n",
       "      <td>2005</td>\n",
       "      <td>2</td>\n",
       "      <td>289.0</td>\n",
       "      <td>6</td>\n",
       "      <td>130500</td>\n",
       "    </tr>\n",
       "    <tr>\n",
       "      <th>1</th>\n",
       "      <td>544</td>\n",
       "      <td>7</td>\n",
       "      <td>559.0</td>\n",
       "      <td>2.0</td>\n",
       "      <td>913.0</td>\n",
       "      <td>1996</td>\n",
       "      <td>1997</td>\n",
       "      <td>2</td>\n",
       "      <td>132.0</td>\n",
       "      <td>8</td>\n",
       "      <td>220000</td>\n",
       "    </tr>\n",
       "    <tr>\n",
       "      <th>2</th>\n",
       "      <td>153</td>\n",
       "      <td>5</td>\n",
       "      <td>246.0</td>\n",
       "      <td>1.0</td>\n",
       "      <td>1057.0</td>\n",
       "      <td>1953</td>\n",
       "      <td>2007</td>\n",
       "      <td>1</td>\n",
       "      <td>0.0</td>\n",
       "      <td>5</td>\n",
       "      <td>109000</td>\n",
       "    </tr>\n",
       "    <tr>\n",
       "      <th>3</th>\n",
       "      <td>318</td>\n",
       "      <td>5</td>\n",
       "      <td>400.0</td>\n",
       "      <td>2.0</td>\n",
       "      <td>384.0</td>\n",
       "      <td>2006</td>\n",
       "      <td>2007</td>\n",
       "      <td>2</td>\n",
       "      <td>0.0</td>\n",
       "      <td>7</td>\n",
       "      <td>174000</td>\n",
       "    </tr>\n",
       "    <tr>\n",
       "      <th>4</th>\n",
       "      <td>255</td>\n",
       "      <td>6</td>\n",
       "      <td>484.0</td>\n",
       "      <td>2.0</td>\n",
       "      <td>676.0</td>\n",
       "      <td>1900</td>\n",
       "      <td>1993</td>\n",
       "      <td>2</td>\n",
       "      <td>0.0</td>\n",
       "      <td>6</td>\n",
       "      <td>138500</td>\n",
       "    </tr>\n",
       "  </tbody>\n",
       "</table>\n",
       "</div>"
      ],
      "text/plain": [
       "    id  overallqual  garagearea  garagecars  totalbsmtsf  yearbuilt  \\\n",
       "0  109            6       475.0         2.0        725.0       1976   \n",
       "1  544            7       559.0         2.0        913.0       1996   \n",
       "2  153            5       246.0         1.0       1057.0       1953   \n",
       "3  318            5       400.0         2.0        384.0       2006   \n",
       "4  255            6       484.0         2.0        676.0       1900   \n",
       "\n",
       "   yearremod/add  fullbath  masvnrarea  totrmsabvgrd  saleprice  \n",
       "0           2005         2       289.0             6     130500  \n",
       "1           1997         2       132.0             8     220000  \n",
       "2           2007         1         0.0             5     109000  \n",
       "3           2007         2         0.0             7     174000  \n",
       "4           1993         2         0.0             6     138500  "
      ]
     },
     "execution_count": 91,
     "metadata": {},
     "output_type": "execute_result"
    }
   ],
   "source": [
    "train_subset = train.loc[:, [\n",
    "    'id',\n",
    "    'overallqual',\n",
    "    'garagearea',\n",
    "    'garagecars',\n",
    "    'totalbsmtsf',\n",
    "    'yearbuilt',\n",
    "    'yearremod/add',\n",
    "    'fullbath',\n",
    "    'masvnrarea',\n",
    "    'totrmsabvgrd',\n",
    "    'saleprice'\n",
    "]]\n",
    "\n",
    "train_subset.head()"
   ]
  },
  {
   "cell_type": "code",
   "execution_count": 92,
   "metadata": {},
   "outputs": [],
   "source": [
    "train_subset.isnull().sum()\n",
    "#train_subset.drop(['garageyrblt'], axis = 1, inplace = True)\n",
    "train_subset.dropna(axis = 0, how = 'any', inplace = True)"
   ]
  },
  {
   "cell_type": "code",
   "execution_count": 93,
   "metadata": {},
   "outputs": [],
   "source": [
    "X_train = train_subset.loc[:, \n",
    "    ['overallqual',\n",
    "    'garagearea',\n",
    "    'garagecars',\n",
    "    'totalbsmtsf',\n",
    "    'yearbuilt',\n",
    "    'yearremod/add',\n",
    "    'fullbath',\n",
    "    'masvnrarea',\n",
    "    'totrmsabvgrd']]\n",
    "\n",
    "y_train = train_subset['saleprice']"
   ]
  },
  {
   "cell_type": "code",
   "execution_count": 94,
   "metadata": {},
   "outputs": [
    {
     "data": {
      "text/plain": [
       "0.774197090023377"
      ]
     },
     "execution_count": 94,
     "metadata": {},
     "output_type": "execute_result"
    }
   ],
   "source": [
    "lr = LinearRegression()\n",
    "lr.fit(X_train, y_train)\n",
    "lr.score(X_train, y_train)"
   ]
  },
  {
   "cell_type": "code",
   "execution_count": 95,
   "metadata": {},
   "outputs": [
    {
     "data": {
      "text/html": [
       "<div>\n",
       "<style scoped>\n",
       "    .dataframe tbody tr th:only-of-type {\n",
       "        vertical-align: middle;\n",
       "    }\n",
       "\n",
       "    .dataframe tbody tr th {\n",
       "        vertical-align: top;\n",
       "    }\n",
       "\n",
       "    .dataframe thead th {\n",
       "        text-align: right;\n",
       "    }\n",
       "</style>\n",
       "<table border=\"1\" class=\"dataframe\">\n",
       "  <thead>\n",
       "    <tr style=\"text-align: right;\">\n",
       "      <th></th>\n",
       "      <th>id</th>\n",
       "      <th>pid</th>\n",
       "      <th>mssubclass</th>\n",
       "      <th>mszoning</th>\n",
       "      <th>lotfrontage</th>\n",
       "      <th>lotarea</th>\n",
       "      <th>street</th>\n",
       "      <th>alley</th>\n",
       "      <th>lotshape</th>\n",
       "      <th>landcontour</th>\n",
       "      <th>...</th>\n",
       "      <th>3ssnporch</th>\n",
       "      <th>screenporch</th>\n",
       "      <th>poolarea</th>\n",
       "      <th>poolqc</th>\n",
       "      <th>fence</th>\n",
       "      <th>miscfeature</th>\n",
       "      <th>miscval</th>\n",
       "      <th>mosold</th>\n",
       "      <th>yrsold</th>\n",
       "      <th>saletype</th>\n",
       "    </tr>\n",
       "  </thead>\n",
       "  <tbody>\n",
       "    <tr>\n",
       "      <th>0</th>\n",
       "      <td>2658</td>\n",
       "      <td>902301120</td>\n",
       "      <td>190</td>\n",
       "      <td>RM</td>\n",
       "      <td>69.0</td>\n",
       "      <td>9142</td>\n",
       "      <td>Pave</td>\n",
       "      <td>Grvl</td>\n",
       "      <td>Reg</td>\n",
       "      <td>Lvl</td>\n",
       "      <td>...</td>\n",
       "      <td>0</td>\n",
       "      <td>0</td>\n",
       "      <td>0</td>\n",
       "      <td>NaN</td>\n",
       "      <td>NaN</td>\n",
       "      <td>NaN</td>\n",
       "      <td>0</td>\n",
       "      <td>4</td>\n",
       "      <td>2006</td>\n",
       "      <td>WD</td>\n",
       "    </tr>\n",
       "    <tr>\n",
       "      <th>1</th>\n",
       "      <td>2718</td>\n",
       "      <td>905108090</td>\n",
       "      <td>90</td>\n",
       "      <td>RL</td>\n",
       "      <td>NaN</td>\n",
       "      <td>9662</td>\n",
       "      <td>Pave</td>\n",
       "      <td>NaN</td>\n",
       "      <td>IR1</td>\n",
       "      <td>Lvl</td>\n",
       "      <td>...</td>\n",
       "      <td>0</td>\n",
       "      <td>0</td>\n",
       "      <td>0</td>\n",
       "      <td>NaN</td>\n",
       "      <td>NaN</td>\n",
       "      <td>NaN</td>\n",
       "      <td>0</td>\n",
       "      <td>8</td>\n",
       "      <td>2006</td>\n",
       "      <td>WD</td>\n",
       "    </tr>\n",
       "    <tr>\n",
       "      <th>2</th>\n",
       "      <td>2414</td>\n",
       "      <td>528218130</td>\n",
       "      <td>60</td>\n",
       "      <td>RL</td>\n",
       "      <td>58.0</td>\n",
       "      <td>17104</td>\n",
       "      <td>Pave</td>\n",
       "      <td>NaN</td>\n",
       "      <td>IR1</td>\n",
       "      <td>Lvl</td>\n",
       "      <td>...</td>\n",
       "      <td>0</td>\n",
       "      <td>0</td>\n",
       "      <td>0</td>\n",
       "      <td>NaN</td>\n",
       "      <td>NaN</td>\n",
       "      <td>NaN</td>\n",
       "      <td>0</td>\n",
       "      <td>9</td>\n",
       "      <td>2006</td>\n",
       "      <td>New</td>\n",
       "    </tr>\n",
       "    <tr>\n",
       "      <th>3</th>\n",
       "      <td>1989</td>\n",
       "      <td>902207150</td>\n",
       "      <td>30</td>\n",
       "      <td>RM</td>\n",
       "      <td>60.0</td>\n",
       "      <td>8520</td>\n",
       "      <td>Pave</td>\n",
       "      <td>NaN</td>\n",
       "      <td>Reg</td>\n",
       "      <td>Lvl</td>\n",
       "      <td>...</td>\n",
       "      <td>0</td>\n",
       "      <td>0</td>\n",
       "      <td>0</td>\n",
       "      <td>NaN</td>\n",
       "      <td>NaN</td>\n",
       "      <td>NaN</td>\n",
       "      <td>0</td>\n",
       "      <td>7</td>\n",
       "      <td>2007</td>\n",
       "      <td>WD</td>\n",
       "    </tr>\n",
       "    <tr>\n",
       "      <th>4</th>\n",
       "      <td>625</td>\n",
       "      <td>535105100</td>\n",
       "      <td>20</td>\n",
       "      <td>RL</td>\n",
       "      <td>NaN</td>\n",
       "      <td>9500</td>\n",
       "      <td>Pave</td>\n",
       "      <td>NaN</td>\n",
       "      <td>IR1</td>\n",
       "      <td>Lvl</td>\n",
       "      <td>...</td>\n",
       "      <td>0</td>\n",
       "      <td>185</td>\n",
       "      <td>0</td>\n",
       "      <td>NaN</td>\n",
       "      <td>NaN</td>\n",
       "      <td>NaN</td>\n",
       "      <td>0</td>\n",
       "      <td>7</td>\n",
       "      <td>2009</td>\n",
       "      <td>WD</td>\n",
       "    </tr>\n",
       "  </tbody>\n",
       "</table>\n",
       "<p>5 rows × 80 columns</p>\n",
       "</div>"
      ],
      "text/plain": [
       "     id        pid  mssubclass mszoning  lotfrontage  lotarea street alley  \\\n",
       "0  2658  902301120         190       RM         69.0     9142   Pave  Grvl   \n",
       "1  2718  905108090          90       RL          NaN     9662   Pave   NaN   \n",
       "2  2414  528218130          60       RL         58.0    17104   Pave   NaN   \n",
       "3  1989  902207150          30       RM         60.0     8520   Pave   NaN   \n",
       "4   625  535105100          20       RL          NaN     9500   Pave   NaN   \n",
       "\n",
       "  lotshape landcontour    ...    3ssnporch screenporch poolarea poolqc fence  \\\n",
       "0      Reg         Lvl    ...            0           0        0    NaN   NaN   \n",
       "1      IR1         Lvl    ...            0           0        0    NaN   NaN   \n",
       "2      IR1         Lvl    ...            0           0        0    NaN   NaN   \n",
       "3      Reg         Lvl    ...            0           0        0    NaN   NaN   \n",
       "4      IR1         Lvl    ...            0         185        0    NaN   NaN   \n",
       "\n",
       "  miscfeature miscval mosold  yrsold  saletype  \n",
       "0         NaN       0      4    2006       WD   \n",
       "1         NaN       0      8    2006       WD   \n",
       "2         NaN       0      9    2006       New  \n",
       "3         NaN       0      7    2007       WD   \n",
       "4         NaN       0      7    2009       WD   \n",
       "\n",
       "[5 rows x 80 columns]"
      ]
     },
     "execution_count": 95,
     "metadata": {},
     "output_type": "execute_result"
    }
   ],
   "source": [
    "test = pd.DataFrame(pd.read_csv('test.csv'))\n",
    "test.columns = [i.lower().replace(' ', '') for i in test.columns]\n",
    "test.head()"
   ]
  },
  {
   "cell_type": "code",
   "execution_count": 96,
   "metadata": {},
   "outputs": [],
   "source": [
    "test_subset = test.loc[:,\n",
    "            ['id',\n",
    "            'overallqual',\n",
    "            'garagearea',\n",
    "            'garagecars',\n",
    "            'totalbsmtsf',\n",
    "            'yearbuilt',\n",
    "            'yearremod/add',\n",
    "            'fullbath',\n",
    "            'masvnrarea',\n",
    "            'totrmsabvgrd']]"
   ]
  },
  {
   "cell_type": "code",
   "execution_count": 97,
   "metadata": {},
   "outputs": [
    {
     "data": {
      "text/plain": [
       "id               0\n",
       "overallqual      0\n",
       "garagearea       0\n",
       "garagecars       0\n",
       "totalbsmtsf      0\n",
       "yearbuilt        0\n",
       "yearremod/add    0\n",
       "fullbath         0\n",
       "masvnrarea       0\n",
       "totrmsabvgrd     0\n",
       "dtype: int64"
      ]
     },
     "execution_count": 97,
     "metadata": {},
     "output_type": "execute_result"
    }
   ],
   "source": [
    "#instead of dropping the row with one NaN value, replace with 0\n",
    "test_subset[test_subset['masvnrarea'].isnull() == True]['masvnrarea']\n",
    "test_subset.loc[866, 'masvnrarea'] = 0\n",
    "#test_subset.dropna(how = 'any', axis = 0, inplace = True)\n",
    "\n",
    "test_subset.isnull().sum()"
   ]
  },
  {
   "cell_type": "code",
   "execution_count": 98,
   "metadata": {},
   "outputs": [],
   "source": [
    "X_test = test_subset.loc[:, \n",
    "            ['overallqual',\n",
    "            'garagearea',\n",
    "            'garagecars',\n",
    "            'totalbsmtsf',\n",
    "            'yearbuilt',\n",
    "            'yearremod/add',\n",
    "            'fullbath',\n",
    "            'masvnrarea',\n",
    "            'totrmsabvgrd']]"
   ]
  },
  {
   "cell_type": "code",
   "execution_count": 99,
   "metadata": {},
   "outputs": [
    {
     "data": {
      "text/plain": [
       "179658.16418595132"
      ]
     },
     "execution_count": 99,
     "metadata": {},
     "output_type": "execute_result"
    }
   ],
   "source": [
    "y_test = lr.predict(X_test)\n",
    "y_test[0:5]\n",
    "y_test.mean()"
   ]
  },
  {
   "cell_type": "code",
   "execution_count": 100,
   "metadata": {},
   "outputs": [],
   "source": [
    "test_subset['saleprice'] = y_test.round(2)"
   ]
  },
  {
   "cell_type": "code",
   "execution_count": 101,
   "metadata": {},
   "outputs": [
    {
     "data": {
      "text/plain": [
       "(879, 11)"
      ]
     },
     "execution_count": 101,
     "metadata": {},
     "output_type": "execute_result"
    }
   ],
   "source": [
    "test_subset.sort_values(by = 'id', inplace = True)\n",
    "test_subset.head()\n",
    "test_subset.shape"
   ]
  },
  {
   "cell_type": "code",
   "execution_count": 102,
   "metadata": {},
   "outputs": [
    {
     "data": {
      "text/plain": [
       "1.0"
      ]
     },
     "execution_count": 102,
     "metadata": {},
     "output_type": "execute_result"
    }
   ],
   "source": [
    "lr = LinearRegression()\n",
    "lr.fit(X_test, y_test)\n",
    "lr.score(X_test, y_test)"
   ]
  },
  {
   "cell_type": "code",
   "execution_count": 103,
   "metadata": {},
   "outputs": [],
   "source": [
    "sample2 = test_subset.loc[:, ['id', 'saleprice']]"
   ]
  },
  {
   "cell_type": "code",
   "execution_count": 104,
   "metadata": {},
   "outputs": [
    {
     "data": {
      "text/plain": [
       "(879, 2)"
      ]
     },
     "execution_count": 104,
     "metadata": {},
     "output_type": "execute_result"
    }
   ],
   "source": [
    "sample2.head()\n",
    "sample2.shape"
   ]
  },
  {
   "cell_type": "code",
   "execution_count": 105,
   "metadata": {},
   "outputs": [],
   "source": [
    "sample2.columns = [i.capitalize() for i in sample2.columns]\n",
    "sample2.set_index('Id', inplace = True)"
   ]
  },
  {
   "cell_type": "code",
   "execution_count": 106,
   "metadata": {},
   "outputs": [
    {
     "data": {
      "text/html": [
       "<div>\n",
       "<style scoped>\n",
       "    .dataframe tbody tr th:only-of-type {\n",
       "        vertical-align: middle;\n",
       "    }\n",
       "\n",
       "    .dataframe tbody tr th {\n",
       "        vertical-align: top;\n",
       "    }\n",
       "\n",
       "    .dataframe thead th {\n",
       "        text-align: right;\n",
       "    }\n",
       "</style>\n",
       "<table border=\"1\" class=\"dataframe\">\n",
       "  <thead>\n",
       "    <tr style=\"text-align: right;\">\n",
       "      <th></th>\n",
       "      <th>Saleprice</th>\n",
       "    </tr>\n",
       "    <tr>\n",
       "      <th>Id</th>\n",
       "      <th></th>\n",
       "    </tr>\n",
       "  </thead>\n",
       "  <tbody>\n",
       "    <tr>\n",
       "      <th>2</th>\n",
       "      <td>132210.28</td>\n",
       "    </tr>\n",
       "    <tr>\n",
       "      <th>4</th>\n",
       "      <td>240492.92</td>\n",
       "    </tr>\n",
       "    <tr>\n",
       "      <th>6</th>\n",
       "      <td>185761.23</td>\n",
       "    </tr>\n",
       "    <tr>\n",
       "      <th>7</th>\n",
       "      <td>239461.09</td>\n",
       "    </tr>\n",
       "    <tr>\n",
       "      <th>17</th>\n",
       "      <td>228097.08</td>\n",
       "    </tr>\n",
       "  </tbody>\n",
       "</table>\n",
       "</div>"
      ],
      "text/plain": [
       "    Saleprice\n",
       "Id           \n",
       "2   132210.28\n",
       "4   240492.92\n",
       "6   185761.23\n",
       "7   239461.09\n",
       "17  228097.08"
      ]
     },
     "execution_count": 106,
     "metadata": {},
     "output_type": "execute_result"
    }
   ],
   "source": [
    "sample2.head()"
   ]
  },
  {
   "cell_type": "code",
   "execution_count": 107,
   "metadata": {},
   "outputs": [],
   "source": [
    "sample2.to_csv('sample2_hc',index = 'Id')\n",
    "#pd.read_csv('sample2_hc')"
   ]
  },
  {
   "cell_type": "code",
   "execution_count": 108,
   "metadata": {},
   "outputs": [
    {
     "data": {
      "text/plain": [
       "Index(['overallqual', 'garagearea', 'garagecars', 'totalbsmtsf', 'yearbuilt',\n",
       "       'yearremod/add', 'fullbath', 'masvnrarea', 'totrmsabvgrd'],\n",
       "      dtype='object')"
      ]
     },
     "execution_count": 108,
     "metadata": {},
     "output_type": "execute_result"
    }
   ],
   "source": [
    "#seeing multicollinearity between variables in dataset\n",
    "X_train.columns"
   ]
  },
  {
   "cell_type": "code",
   "execution_count": 109,
   "metadata": {},
   "outputs": [
    {
     "data": {
      "image/png": "[encoded data removed]",
      "text/plain": [
       "<Figure size 432x288 with 2 Axes>"
      ]
     },
     "metadata": {},
     "output_type": "display_data"
    }
   ],
   "source": [
    "X_train.corr()\n",
    "sns.heatmap(X_train.corr(), annot = True);"
   ]
  },
  {
   "cell_type": "code",
   "execution_count": 110,
   "metadata": {},
   "outputs": [
    {
     "data": {
      "image/png": "[encoded data removed]",
      "text/plain": [
       "<Figure size 720x576 with 2 Axes>"
      ]
     },
     "metadata": {},
     "output_type": "display_data"
    }
   ],
   "source": [
    "#garagearea and garagecars: corr = 0.89\n",
    "#yearbuilt and yearremod/add: corr = 0.63\n",
    "#overallqual and yearbuilt: corr = 0.6\n",
    "\n",
    "#QUESTION: which variable to drop?\n",
    "    #using correlation with saleprice from second submission iteration to determine\n",
    "        #drop garagearea\n",
    "        #drop yearremod/add\n",
    "        #drop yearbuilt\n",
    "        \n",
    "import matplotlib.pyplot as plt\n",
    "X_test['saleprice'] = y_test\n",
    "corr = X_test.corr()[['saleprice']].sort_values(by = 'saleprice', ascending = False)\n",
    "figure = plt.figure(figsize = (10, 8))\n",
    "sns.heatmap(corr.rank(ascending = True), annot = corr);"
   ]
  },
  {
   "cell_type": "code",
   "execution_count": 111,
   "metadata": {},
   "outputs": [
    {
     "data": {
      "text/plain": [
       "0.774197090023377"
      ]
     },
     "execution_count": 111,
     "metadata": {},
     "output_type": "execute_result"
    }
   ],
   "source": [
    "#X_train.drop(['garagearea', 'yearremod/add', 'yearbuilt'], axis = 1, inplace = True)\n",
    "X_train.head()\n",
    "lr.fit(X_train, y_train)\n",
    "lr.score(X_train, y_train)    #R2 score actually looks 1% lower than original model\n",
    "\n",
    "#try removing one of three multicollinear variables: garagearea\n",
    "#X_train.drop(['garagearea'], axis = 1, inplace = True)\n",
    "lr.fit(X_train, y_train)\n",
    "lr.score(X_train, y_train)    #still slightly lower than original model\n",
    "\n",
    "#try dropping other variables\n",
    "#X_train.drop(['yearremod/add'], axis = 1, inplace = True)\n",
    "lr.fit(X_train, y_train)\n",
    "lr.score(X_train, y_train)\n",
    "\n",
    "#X_train.drop(['yearbuilt'], axis = 1, inplace = True)\n",
    "lr.fit(X_train, y_train)\n",
    "lr.score(X_train, y_train)"
   ]
  },
  {
   "cell_type": "code",
   "execution_count": 112,
   "metadata": {},
   "outputs": [
    {
     "data": {
      "text/plain": [
       "0.7866093904030399"
      ]
     },
     "execution_count": 112,
     "metadata": {},
     "output_type": "execute_result"
    }
   ],
   "source": [
    "#idea to drop variables did return better r2 results\n",
    "#try adding variables: next most correlated variable to saleprice --> fireplaces\n",
    "X_train['fireplaces'] = train.fireplaces\n",
    "X_train.head()\n",
    "lr.fit(X_train, y_train)\n",
    "lr.score(X_train, y_train)    #R2 score is 1% better!\n",
    "\n",
    "#try adding more variables: next 4 most correlated variables to saleprice -->\n",
    "    #basmtfinsf1\n",
    "    #lotfrontage\n",
    "    #openporchsf\n",
    "    #wooddecksf\n",
    "#train.columns"
   ]
  },
  {
   "cell_type": "code",
   "execution_count": 113,
   "metadata": {},
   "outputs": [],
   "source": [
    "import numpy as np"
   ]
  },
  {
   "cell_type": "code",
   "execution_count": 114,
   "metadata": {},
   "outputs": [
    {
     "name": "stderr",
     "output_type": "stream",
     "text": [
      "/Users/chelen/anaconda3/envs/dsi/lib/python3.6/site-packages/ipykernel/__main__.py:2: SettingWithCopyWarning: \n",
      "A value is trying to be set on a copy of a slice from a DataFrame.\n",
      "Try using .loc[row_indexer,col_indexer] = value instead\n",
      "\n",
      "See the caveats in the documentation: http://pandas.pydata.org/pandas-docs/stable/indexing.html#indexing-view-versus-copy\n",
      "  from ipykernel import kernelapp as app\n"
     ]
    }
   ],
   "source": [
    "X_train_objects = train.select_dtypes(include = 'object')\n",
    "X_train_objects['saleprice'] = train['saleprice']"
   ]
  },
  {
   "cell_type": "code",
   "execution_count": 115,
   "metadata": {},
   "outputs": [
    {
     "data": {
      "text/html": [
       "<div>\n",
       "<style scoped>\n",
       "    .dataframe tbody tr th:only-of-type {\n",
       "        vertical-align: middle;\n",
       "    }\n",
       "\n",
       "    .dataframe tbody tr th {\n",
       "        vertical-align: top;\n",
       "    }\n",
       "\n",
       "    .dataframe thead th {\n",
       "        text-align: right;\n",
       "    }\n",
       "</style>\n",
       "<table border=\"1\" class=\"dataframe\">\n",
       "  <thead>\n",
       "    <tr style=\"text-align: right;\">\n",
       "      <th></th>\n",
       "      <th>mszoning</th>\n",
       "      <th>street</th>\n",
       "      <th>alley</th>\n",
       "      <th>lotshape</th>\n",
       "      <th>landcontour</th>\n",
       "      <th>utilities</th>\n",
       "      <th>lotconfig</th>\n",
       "      <th>landslope</th>\n",
       "      <th>neighborhood</th>\n",
       "      <th>condition1</th>\n",
       "      <th>...</th>\n",
       "      <th>garagetype</th>\n",
       "      <th>garagefinish</th>\n",
       "      <th>garagequal</th>\n",
       "      <th>garagecond</th>\n",
       "      <th>paveddrive</th>\n",
       "      <th>poolqc</th>\n",
       "      <th>fence</th>\n",
       "      <th>miscfeature</th>\n",
       "      <th>saletype</th>\n",
       "      <th>saleprice</th>\n",
       "    </tr>\n",
       "  </thead>\n",
       "  <tbody>\n",
       "    <tr>\n",
       "      <th>0</th>\n",
       "      <td>RL</td>\n",
       "      <td>Pave</td>\n",
       "      <td>NaN</td>\n",
       "      <td>IR1</td>\n",
       "      <td>Lvl</td>\n",
       "      <td>AllPub</td>\n",
       "      <td>CulDSac</td>\n",
       "      <td>Gtl</td>\n",
       "      <td>Sawyer</td>\n",
       "      <td>RRAe</td>\n",
       "      <td>...</td>\n",
       "      <td>Attchd</td>\n",
       "      <td>RFn</td>\n",
       "      <td>TA</td>\n",
       "      <td>TA</td>\n",
       "      <td>Y</td>\n",
       "      <td>NaN</td>\n",
       "      <td>NaN</td>\n",
       "      <td>NaN</td>\n",
       "      <td>WD</td>\n",
       "      <td>130500</td>\n",
       "    </tr>\n",
       "    <tr>\n",
       "      <th>1</th>\n",
       "      <td>RL</td>\n",
       "      <td>Pave</td>\n",
       "      <td>NaN</td>\n",
       "      <td>IR1</td>\n",
       "      <td>Lvl</td>\n",
       "      <td>AllPub</td>\n",
       "      <td>CulDSac</td>\n",
       "      <td>Gtl</td>\n",
       "      <td>SawyerW</td>\n",
       "      <td>Norm</td>\n",
       "      <td>...</td>\n",
       "      <td>Attchd</td>\n",
       "      <td>RFn</td>\n",
       "      <td>TA</td>\n",
       "      <td>TA</td>\n",
       "      <td>Y</td>\n",
       "      <td>NaN</td>\n",
       "      <td>NaN</td>\n",
       "      <td>NaN</td>\n",
       "      <td>WD</td>\n",
       "      <td>220000</td>\n",
       "    </tr>\n",
       "    <tr>\n",
       "      <th>2</th>\n",
       "      <td>RL</td>\n",
       "      <td>Pave</td>\n",
       "      <td>NaN</td>\n",
       "      <td>Reg</td>\n",
       "      <td>Lvl</td>\n",
       "      <td>AllPub</td>\n",
       "      <td>Inside</td>\n",
       "      <td>Gtl</td>\n",
       "      <td>NAmes</td>\n",
       "      <td>Norm</td>\n",
       "      <td>...</td>\n",
       "      <td>Detchd</td>\n",
       "      <td>Unf</td>\n",
       "      <td>TA</td>\n",
       "      <td>TA</td>\n",
       "      <td>Y</td>\n",
       "      <td>NaN</td>\n",
       "      <td>NaN</td>\n",
       "      <td>NaN</td>\n",
       "      <td>WD</td>\n",
       "      <td>109000</td>\n",
       "    </tr>\n",
       "    <tr>\n",
       "      <th>3</th>\n",
       "      <td>RL</td>\n",
       "      <td>Pave</td>\n",
       "      <td>NaN</td>\n",
       "      <td>Reg</td>\n",
       "      <td>Lvl</td>\n",
       "      <td>AllPub</td>\n",
       "      <td>Inside</td>\n",
       "      <td>Gtl</td>\n",
       "      <td>Timber</td>\n",
       "      <td>Norm</td>\n",
       "      <td>...</td>\n",
       "      <td>BuiltIn</td>\n",
       "      <td>Fin</td>\n",
       "      <td>TA</td>\n",
       "      <td>TA</td>\n",
       "      <td>Y</td>\n",
       "      <td>NaN</td>\n",
       "      <td>NaN</td>\n",
       "      <td>NaN</td>\n",
       "      <td>WD</td>\n",
       "      <td>174000</td>\n",
       "    </tr>\n",
       "    <tr>\n",
       "      <th>4</th>\n",
       "      <td>RL</td>\n",
       "      <td>Pave</td>\n",
       "      <td>NaN</td>\n",
       "      <td>IR1</td>\n",
       "      <td>Lvl</td>\n",
       "      <td>AllPub</td>\n",
       "      <td>Inside</td>\n",
       "      <td>Gtl</td>\n",
       "      <td>SawyerW</td>\n",
       "      <td>Norm</td>\n",
       "      <td>...</td>\n",
       "      <td>Detchd</td>\n",
       "      <td>Unf</td>\n",
       "      <td>TA</td>\n",
       "      <td>TA</td>\n",
       "      <td>N</td>\n",
       "      <td>NaN</td>\n",
       "      <td>NaN</td>\n",
       "      <td>NaN</td>\n",
       "      <td>WD</td>\n",
       "      <td>138500</td>\n",
       "    </tr>\n",
       "  </tbody>\n",
       "</table>\n",
       "<p>5 rows × 43 columns</p>\n",
       "</div>"
      ],
      "text/plain": [
       "  mszoning street alley lotshape landcontour utilities lotconfig landslope  \\\n",
       "0       RL   Pave   NaN      IR1         Lvl    AllPub   CulDSac       Gtl   \n",
       "1       RL   Pave   NaN      IR1         Lvl    AllPub   CulDSac       Gtl   \n",
       "2       RL   Pave   NaN      Reg         Lvl    AllPub    Inside       Gtl   \n",
       "3       RL   Pave   NaN      Reg         Lvl    AllPub    Inside       Gtl   \n",
       "4       RL   Pave   NaN      IR1         Lvl    AllPub    Inside       Gtl   \n",
       "\n",
       "  neighborhood condition1    ...    garagetype garagefinish garagequal  \\\n",
       "0       Sawyer       RRAe    ...        Attchd          RFn         TA   \n",
       "1      SawyerW       Norm    ...        Attchd          RFn         TA   \n",
       "2        NAmes       Norm    ...        Detchd          Unf         TA   \n",
       "3       Timber       Norm    ...       BuiltIn          Fin         TA   \n",
       "4      SawyerW       Norm    ...        Detchd          Unf         TA   \n",
       "\n",
       "  garagecond paveddrive poolqc fence miscfeature saletype saleprice  \n",
       "0         TA          Y    NaN   NaN         NaN      WD     130500  \n",
       "1         TA          Y    NaN   NaN         NaN      WD     220000  \n",
       "2         TA          Y    NaN   NaN         NaN      WD     109000  \n",
       "3         TA          Y    NaN   NaN         NaN      WD     174000  \n",
       "4         TA          N    NaN   NaN         NaN      WD     138500  \n",
       "\n",
       "[5 rows x 43 columns]"
      ]
     },
     "execution_count": 115,
     "metadata": {},
     "output_type": "execute_result"
    }
   ],
   "source": [
    "X_train_objects.head()\n",
    "\n",
    "#remove columns with many NaN values:\n",
    "    #alley, masvnrtype, bsmtqual, bsmtcond, bsmtexposure, bsmtfintype1, bsmtfintype2, fireplacequ, \n",
    "    #garagetype, garagefinish, garagequal, garagecond, paveddrive, poolqc, fence, miscfeature \n",
    "#X_train_objects.remove()\n",
    "    \n",
    "#.sort_values(by = 'saleprice', ascending = False)\n",
    "#figure = plt.figure(figsize = (15, 10))\n",
    "#sns.heatmap(corr.rank(ascending = True), annot = corr);"
   ]
  },
  {
   "cell_type": "code",
   "execution_count": 116,
   "metadata": {},
   "outputs": [
    {
     "data": {
      "text/plain": [
       "Index(['mszoning', 'street', 'alley', 'lotshape', 'landcontour', 'utilities',\n",
       "       'lotconfig', 'landslope', 'neighborhood', 'condition1', 'condition2',\n",
       "       'bldgtype', 'housestyle', 'roofstyle', 'roofmatl', 'exterior1st',\n",
       "       'exterior2nd', 'masvnrtype', 'exterqual', 'extercond', 'foundation',\n",
       "       'bsmtqual', 'bsmtcond', 'bsmtexposure', 'bsmtfintype1', 'bsmtfintype2',\n",
       "       'heating', 'heatingqc', 'centralair', 'electrical', 'kitchenqual',\n",
       "       'functional', 'fireplacequ', 'garagetype', 'garagefinish', 'garagequal',\n",
       "       'garagecond', 'paveddrive', 'poolqc', 'fence', 'miscfeature',\n",
       "       'saletype', 'saleprice'],\n",
       "      dtype='object')"
      ]
     },
     "execution_count": 116,
     "metadata": {},
     "output_type": "execute_result"
    }
   ],
   "source": [
    "X_train_objects.columns"
   ]
  },
  {
   "cell_type": "code",
   "execution_count": 117,
   "metadata": {},
   "outputs": [],
   "source": [
    "#try picking a categorical column to dummy variable\n",
    "\n",
    "#centralair\n",
    "X_train['centralair'] = pd.get_dummies(X_train_objects['centralair'], drop_first = True)\n",
    "\n",
    "#neighborhood\n",
    "neighborhood = pd.get_dummies(X_train_objects['neighborhood'], drop_first = True)\n",
    "X_train = X_train.join(neighborhood)\n",
    "\n",
    "#heating\n",
    "heating = pd.get_dummies(X_train_objects['heating'], drop_first = True)\n",
    "X_train = X_train.join(heating)\n",
    "\n",
    "#kitchenqual\n",
    "kitchenqual = pd.get_dummies(X_train_objects['kitchenqual'], drop_first = True)\n",
    "X_train = X_train.join(kitchenqual)\n",
    "\n",
    "#condition1\n",
    "condition1 = pd.get_dummies(X_train_objects['condition1'], drop_first = True)\n",
    "X_train = X_train.join(condition1)\n",
    "\n",
    "#condition2\n",
    "#condition2 = pd.get_dummies(X_train_objects['condition2'], drop_first = True)\n",
    "#X_train = X_train.join(condition2)\n",
    "\n",
    "#lotshape\n",
    "lotshape = pd.get_dummies(X_train_objects['lotshape'], drop_first = True)\n",
    "X_train = X_train.join(lotshape)\n",
    "\n",
    "#electrical\n",
    "electrical = pd.get_dummies(X_train_objects['electrical'], drop_first = True)\n",
    "X_train = X_train.join(electrical)\n",
    "\n",
    "#functional\n",
    "functional = pd.get_dummies(X_train_objects['functional'], drop_first = True)\n",
    "X_train = X_train.join(functional)\n",
    "\n",
    "#mszoning\n",
    "mszoning = pd.get_dummies(X_train_objects['mszoning'], drop_first = True)\n",
    "X_train = X_train.join(mszoning)\n",
    "\n",
    "#bldgtype\n",
    "bldgtype = pd.get_dummies(X_train_objects['bldgtype'], drop_first = True)\n",
    "X_train = X_train.join(bldgtype)\n",
    "\n",
    "#housestyle\n",
    "housestyle = pd.get_dummies(X_train_objects['housestyle'], drop_first = True)\n",
    "X_train = X_train.join(housestyle)"
   ]
  },
  {
   "cell_type": "code",
   "execution_count": 118,
   "metadata": {},
   "outputs": [
    {
     "data": {
      "text/plain": [
       "Index(['overallqual', 'garagearea', 'garagecars', 'totalbsmtsf', 'yearbuilt',\n",
       "       'yearremod/add', 'fullbath', 'masvnrarea', 'totrmsabvgrd', 'fireplaces',\n",
       "       'centralair', 'Blueste', 'BrDale', 'BrkSide', 'ClearCr', 'CollgCr',\n",
       "       'Crawfor', 'Edwards', 'Gilbert', 'Greens', 'GrnHill', 'IDOTRR',\n",
       "       'Landmrk', 'MeadowV', 'Mitchel', 'NAmes', 'NPkVill', 'NWAmes',\n",
       "       'NoRidge', 'NridgHt', 'OldTown', 'SWISU', 'Sawyer', 'SawyerW',\n",
       "       'Somerst', 'StoneBr', 'Timber', 'Veenker', 'GasW', 'Grav', 'OthW',\n",
       "       'Wall', 'Fa', 'Gd', 'TA', 'Feedr', 'Norm', 'PosA', 'PosN', 'RRAe',\n",
       "       'RRAn', 'RRNe', 'RRNn', 'IR2', 'IR3', 'Reg', 'FuseF', 'FuseP', 'Mix',\n",
       "       'SBrkr', 'Maj2', 'Min1', 'Min2', 'Mod', 'Sal', 'Sev', 'Typ', 'C (all)',\n",
       "       'FV', 'I (all)', 'RH', 'RL', 'RM', '2fmCon', 'Duplex', 'Twnhs',\n",
       "       'TwnhsE', '1.5Unf', '1Story', '2.5Fin', '2.5Unf', '2Story', 'SFoyer',\n",
       "       'SLvl'],\n",
       "      dtype='object')"
      ]
     },
     "execution_count": 118,
     "metadata": {},
     "output_type": "execute_result"
    }
   ],
   "source": [
    "X_train.columns"
   ]
  },
  {
   "cell_type": "code",
   "execution_count": 119,
   "metadata": {},
   "outputs": [
    {
     "data": {
      "text/plain": [
       "((2027, 84), (879, 10))"
      ]
     },
     "execution_count": 119,
     "metadata": {},
     "output_type": "execute_result"
    }
   ],
   "source": [
    "X_train.shape, X_test.shape"
   ]
  },
  {
   "cell_type": "code",
   "execution_count": 120,
   "metadata": {},
   "outputs": [
    {
     "data": {
      "text/plain": [
       "0.8606130278188064"
      ]
     },
     "execution_count": 120,
     "metadata": {},
     "output_type": "execute_result"
    }
   ],
   "source": [
    "lr = LinearRegression()\n",
    "lr.fit(X_train, y_train)\n",
    "lr.score(X_train, y_train)    #adding categorical variables led to a 10% increase in r2 score"
   ]
  },
  {
   "cell_type": "code",
   "execution_count": 121,
   "metadata": {
    "scrolled": true
   },
   "outputs": [],
   "source": [
    "#len(train.select_dtypes(include = 'object').columns)\n",
    "#42 string type data columns\n",
    "#find correlation between these columns and saleprice\n",
    "\n",
    "#fig = plt.figure(figsize = (24, 16))\n",
    "    \n",
    "#for i, col in enumerate(train_objects.columns):\n",
    "#    fig.add_subplot(10, 5, i+1)\n",
    "#    plt.scatter(train_objects[col], train_objects['saleprice']);\n",
    "#    plt.xlabel(col)\n",
    "#    plt.ylabel('saleprice')"
   ]
  },
  {
   "cell_type": "code",
   "execution_count": 122,
   "metadata": {},
   "outputs": [],
   "source": [
    "#centralair\n",
    "X_test['centralair'] = pd.get_dummies(test['centralair'], drop_first = True)\n",
    "\n",
    "#neighborhood\n",
    "neighborhood = pd.get_dummies(test['neighborhood'], drop_first = True)\n",
    "X_test = X_test.join(neighborhood)\n",
    "\n",
    "#heating\n",
    "heating = pd.get_dummies(test['heating'], drop_first = True)\n",
    "X_test = X_test.join(heating)\n",
    "\n",
    "#kitchenqual\n",
    "kitchenqual = pd.get_dummies(test['kitchenqual'], drop_first = True)\n",
    "X_test = X_test.join(kitchenqual)\n",
    "\n",
    "#condition1\n",
    "condition1 = pd.get_dummies(test['condition1'], drop_first = True)\n",
    "X_test = X_test.join(condition1)\n",
    "\n",
    "#condition2\n",
    "#condition2 = pd.get_dummies(test['condition2'], drop_first = True)\n",
    "#X_test = X_test.join(condition2)\n",
    "\n",
    "#lotshape\n",
    "lotshape = pd.get_dummies(test['lotshape'], drop_first = True)\n",
    "X_test = X_test.join(lotshape)\n",
    "\n",
    "#eletrical\n",
    "electrical = pd.get_dummies(test['electrical'], drop_first = True)\n",
    "X_test = X_test.join(electrical)\n",
    "\n",
    "#functional\n",
    "functional = pd.get_dummies(test['functional'], drop_first = True)\n",
    "X_test = X_test.join(functional)\n",
    "\n",
    "#mszoning\n",
    "mszoning = pd.get_dummies(test['mszoning'], drop_first = True)\n",
    "X_test = X_test.join(mszoning)\n",
    "\n",
    "#bldgtype\n",
    "bldgtype = pd.get_dummies(test['bldgtype'], drop_first = True)\n",
    "X_test = X_test.join(bldgtype)\n",
    "\n",
    "#housestyle\n",
    "housestyle = pd.get_dummies(test['housestyle'], drop_first = True)\n",
    "X_test = X_test.join(housestyle)"
   ]
  },
  {
   "cell_type": "code",
   "execution_count": 123,
   "metadata": {},
   "outputs": [],
   "source": [
    "X_test.drop(['saleprice'], axis = 1, inplace = True)"
   ]
  },
  {
   "cell_type": "code",
   "execution_count": 124,
   "metadata": {},
   "outputs": [],
   "source": [
    "#fireplaces\n",
    "X_test['fireplaces'] = test['fireplaces']"
   ]
  },
  {
   "cell_type": "code",
   "execution_count": 125,
   "metadata": {},
   "outputs": [
    {
     "data": {
      "text/plain": [
       "((2027, 84), (879, 78))"
      ]
     },
     "execution_count": 125,
     "metadata": {},
     "output_type": "execute_result"
    }
   ],
   "source": [
    "X_train.shape, X_test.shape"
   ]
  },
  {
   "cell_type": "code",
   "execution_count": 126,
   "metadata": {},
   "outputs": [],
   "source": [
    "#X_train.drop(['fireplaces'], axis = 1, inplace = True)\n",
    "#X_test['IDOTRR']\n",
    "#X_test"
   ]
  },
  {
   "cell_type": "code",
   "execution_count": 127,
   "metadata": {},
   "outputs": [],
   "source": [
    "#X_train.columns\n",
    "X_train.drop(['OthW', 'Wall', 'Sal', 'Sev', 'C (all)', 'GrnHill'], axis = 1, inplace = True)"
   ]
  },
  {
   "cell_type": "code",
   "execution_count": 128,
   "metadata": {},
   "outputs": [
    {
     "data": {
      "text/plain": [
       "((2027, 78), (879, 78))"
      ]
     },
     "execution_count": 128,
     "metadata": {},
     "output_type": "execute_result"
    }
   ],
   "source": [
    "X_train.shape, X_test.shape"
   ]
  },
  {
   "cell_type": "code",
   "execution_count": 129,
   "metadata": {},
   "outputs": [
    {
     "data": {
      "text/plain": [
       "0.8580403803770426"
      ]
     },
     "execution_count": 129,
     "metadata": {},
     "output_type": "execute_result"
    }
   ],
   "source": [
    "lr.fit(X_train, y_train)\n",
    "lr.score(X_train, y_train)"
   ]
  },
  {
   "cell_type": "code",
   "execution_count": 130,
   "metadata": {},
   "outputs": [
    {
     "data": {
      "text/plain": [
       "157456.24372973837"
      ]
     },
     "execution_count": 130,
     "metadata": {},
     "output_type": "execute_result"
    }
   ],
   "source": [
    "saleprices3=lr.predict(X_test)\n",
    "saleprices3.mean()"
   ]
  },
  {
   "cell_type": "code",
   "execution_count": 131,
   "metadata": {},
   "outputs": [
    {
     "data": {
      "text/plain": [
       "Index(['id', 'overallqual', 'garagearea', 'garagecars', 'totalbsmtsf',\n",
       "       'yearbuilt', 'yearremod/add', 'fullbath', 'masvnrarea', 'totrmsabvgrd',\n",
       "       'saleprice'],\n",
       "      dtype='object')"
      ]
     },
     "execution_count": 131,
     "metadata": {},
     "output_type": "execute_result"
    }
   ],
   "source": [
    "test_subset['saleprice']=saleprices3.round(2)\n",
    "test_subset.columns"
   ]
  },
  {
   "cell_type": "code",
   "execution_count": 132,
   "metadata": {},
   "outputs": [],
   "source": [
    "test_subset.sort_values(by = 'id', inplace = True)"
   ]
  },
  {
   "cell_type": "code",
   "execution_count": 133,
   "metadata": {},
   "outputs": [
    {
     "data": {
      "text/plain": [
       "179658.164152446"
      ]
     },
     "execution_count": 133,
     "metadata": {},
     "output_type": "execute_result"
    }
   ],
   "source": [
    "sample2.Saleprice.mean()"
   ]
  },
  {
   "cell_type": "code",
   "execution_count": 134,
   "metadata": {},
   "outputs": [],
   "source": [
    "sample3 = test_subset.loc[:, ['id', 'saleprice']]\n",
    "sample3.columns = [i.capitalize() for i in sample3.columns]\n",
    "sample3.set_index('Id', inplace = True)"
   ]
  },
  {
   "cell_type": "code",
   "execution_count": 135,
   "metadata": {},
   "outputs": [],
   "source": [
    "sample3.to_csv('sample3_hc')"
   ]
  },
  {
   "cell_type": "code",
   "execution_count": 136,
   "metadata": {},
   "outputs": [],
   "source": [
    "#pd.read_csv('sample3_hc')"
   ]
  },
  {
   "cell_type": "code",
   "execution_count": 137,
   "metadata": {},
   "outputs": [],
   "source": [
    "sample3.to_csv('sample3_hc', index = 'Id')"
   ]
  }
 ],
 "metadata": {
  "kernelspec": {
   "display_name": "Python [conda env:dsi]",
   "language": "python",
   "name": "conda-env-dsi-py"
  },
  "language_info": {
   "codemirror_mode": {
    "name": "ipython",
    "version": 3
   },
   "file_extension": ".py",
   "mimetype": "text/x-python",
   "name": "python",
   "nbconvert_exporter": "python",
   "pygments_lexer": "ipython3",
   "version": "3.6.5"
  }
 },
 "nbformat": 4,
 "nbformat_minor": 2
}
